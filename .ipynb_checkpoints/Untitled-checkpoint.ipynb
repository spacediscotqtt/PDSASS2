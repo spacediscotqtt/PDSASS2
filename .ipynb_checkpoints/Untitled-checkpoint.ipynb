{
 "cells": [
  {
   "cell_type": "code",
   "execution_count": 1,
   "metadata": {},
   "outputs": [],
   "source": [
    "# Import pandas library\n",
    "import pandas as pd\n",
    "import numpy as np\n",
    "import matplotlib.pyplot as plt\n",
    "from sklearn import linear_model\n",
    "import scipy\n",
    "pd.options.mode.chained_assignment = None  # default='warn'"
   ]
  },
  {
   "cell_type": "code",
   "execution_count": 2,
   "metadata": {},
   "outputs": [],
   "source": [
    "df = pd.read_csv('S1Data.csv')"
   ]
  },
  {
   "cell_type": "code",
   "execution_count": 13,
   "metadata": {},
   "outputs": [
    {
     "data": {
      "text/html": [
       "<div>\n",
       "<style scoped>\n",
       "    .dataframe tbody tr th:only-of-type {\n",
       "        vertical-align: middle;\n",
       "    }\n",
       "\n",
       "    .dataframe tbody tr th {\n",
       "        vertical-align: top;\n",
       "    }\n",
       "\n",
       "    .dataframe thead th {\n",
       "        text-align: right;\n",
       "    }\n",
       "</style>\n",
       "<table border=\"1\" class=\"dataframe\">\n",
       "  <thead>\n",
       "    <tr style=\"text-align: right;\">\n",
       "      <th></th>\n",
       "      <th>TIME</th>\n",
       "      <th>Event</th>\n",
       "      <th>Gender</th>\n",
       "      <th>Smoking</th>\n",
       "      <th>Diabetes</th>\n",
       "      <th>BP</th>\n",
       "      <th>Anaemia</th>\n",
       "      <th>Age</th>\n",
       "      <th>Ejection.Fraction</th>\n",
       "      <th>Sodium</th>\n",
       "      <th>Creatinine</th>\n",
       "      <th>Pletelets</th>\n",
       "      <th>CPK</th>\n",
       "    </tr>\n",
       "  </thead>\n",
       "  <tbody>\n",
       "    <tr>\n",
       "      <th>0</th>\n",
       "      <td>97</td>\n",
       "      <td>0</td>\n",
       "      <td>F</td>\n",
       "      <td>0</td>\n",
       "      <td>0</td>\n",
       "      <td>0</td>\n",
       "      <td>1</td>\n",
       "      <td>43.0</td>\n",
       "      <td>50</td>\n",
       "      <td>135</td>\n",
       "      <td>1.30</td>\n",
       "      <td>237000.00</td>\n",
       "      <td>358</td>\n",
       "    </tr>\n",
       "    <tr>\n",
       "      <th>1</th>\n",
       "      <td>180</td>\n",
       "      <td>0</td>\n",
       "      <td>M</td>\n",
       "      <td>1</td>\n",
       "      <td>1</td>\n",
       "      <td>0</td>\n",
       "      <td>1</td>\n",
       "      <td>73.0</td>\n",
       "      <td>30</td>\n",
       "      <td>142</td>\n",
       "      <td>1.18</td>\n",
       "      <td>160000.00</td>\n",
       "      <td>231</td>\n",
       "    </tr>\n",
       "    <tr>\n",
       "      <th>2</th>\n",
       "      <td>31</td>\n",
       "      <td>1</td>\n",
       "      <td>M</td>\n",
       "      <td>1</td>\n",
       "      <td>0</td>\n",
       "      <td>1</td>\n",
       "      <td>0</td>\n",
       "      <td>70.0</td>\n",
       "      <td>20</td>\n",
       "      <td>134</td>\n",
       "      <td>1.83</td>\n",
       "      <td>263358.03</td>\n",
       "      <td>582</td>\n",
       "    </tr>\n",
       "    <tr>\n",
       "      <th>3</th>\n",
       "      <td>87</td>\n",
       "      <td>0</td>\n",
       "      <td>M</td>\n",
       "      <td>0</td>\n",
       "      <td>0</td>\n",
       "      <td>0</td>\n",
       "      <td>1</td>\n",
       "      <td>65.0</td>\n",
       "      <td>25</td>\n",
       "      <td>141</td>\n",
       "      <td>1.10</td>\n",
       "      <td>298000.00</td>\n",
       "      <td>305</td>\n",
       "    </tr>\n",
       "    <tr>\n",
       "      <th>4</th>\n",
       "      <td>113</td>\n",
       "      <td>0</td>\n",
       "      <td>M</td>\n",
       "      <td>0</td>\n",
       "      <td>0</td>\n",
       "      <td>0</td>\n",
       "      <td>0</td>\n",
       "      <td>64.0</td>\n",
       "      <td>60</td>\n",
       "      <td>137</td>\n",
       "      <td>1.00</td>\n",
       "      <td>242000.00</td>\n",
       "      <td>1610</td>\n",
       "    </tr>\n",
       "  </tbody>\n",
       "</table>\n",
       "</div>"
      ],
      "text/plain": [
       "   TIME  Event Gender  Smoking  Diabetes  BP  Anaemia   Age  \\\n",
       "0    97      0      F        0         0   0        1  43.0   \n",
       "1   180      0      M        1         1   0        1  73.0   \n",
       "2    31      1      M        1         0   1        0  70.0   \n",
       "3    87      0      M        0         0   0        1  65.0   \n",
       "4   113      0      M        0         0   0        0  64.0   \n",
       "\n",
       "   Ejection.Fraction  Sodium  Creatinine  Pletelets   CPK  \n",
       "0                 50     135        1.30  237000.00   358  \n",
       "1                 30     142        1.18  160000.00   231  \n",
       "2                 20     134        1.83  263358.03   582  \n",
       "3                 25     141        1.10  298000.00   305  \n",
       "4                 60     137        1.00  242000.00  1610  "
      ]
     },
     "execution_count": 13,
     "metadata": {},
     "output_type": "execute_result"
    }
   ],
   "source": [
    "df.head()"
   ]
  },
  {
   "cell_type": "code",
   "execution_count": 3,
   "metadata": {},
   "outputs": [
    {
     "data": {
      "text/plain": [
       "(299, 13)"
      ]
     },
     "execution_count": 3,
     "metadata": {},
     "output_type": "execute_result"
    }
   ],
   "source": [
    "df.shape"
   ]
  },
  {
   "cell_type": "code",
   "execution_count": 4,
   "metadata": {},
   "outputs": [
    {
     "name": "stdout",
     "output_type": "stream",
     "text": [
      "TIME                   int64\n",
      "Event                  int64\n",
      "Gender                 int64\n",
      "Smoking                int64\n",
      "Diabetes               int64\n",
      "BP                     int64\n",
      "Anaemia                int64\n",
      "Age                  float64\n",
      "Ejection.Fraction      int64\n",
      "Sodium                 int64\n",
      "Creatinine           float64\n",
      "Pletelets            float64\n",
      "CPK                    int64\n",
      "dtype: object\n",
      "int64      10\n",
      "float64     3\n",
      "dtype: int64\n"
     ]
    }
   ],
   "source": [
    "print(df.dtypes)\n",
    "print(df.dtypes.value_counts())"
   ]
  },
  {
   "cell_type": "code",
   "execution_count": 5,
   "metadata": {},
   "outputs": [
    {
     "data": {
      "text/plain": [
       "TIME                 False\n",
       "Event                False\n",
       "Gender               False\n",
       "Smoking              False\n",
       "Diabetes             False\n",
       "BP                   False\n",
       "Anaemia              False\n",
       "Age                  False\n",
       "Ejection.Fraction    False\n",
       "Sodium               False\n",
       "Creatinine           False\n",
       "Pletelets            False\n",
       "CPK                  False\n",
       "dtype: bool"
      ]
     },
     "execution_count": 5,
     "metadata": {},
     "output_type": "execute_result"
    }
   ],
   "source": [
    "df.isnull().any()"
   ]
  },
  {
   "cell_type": "code",
   "execution_count": 6,
   "metadata": {},
   "outputs": [
    {
     "data": {
      "text/plain": [
       "Index(['TIME', 'Event', 'Gender', 'Smoking', 'Diabetes', 'BP', 'Anaemia',\n",
       "       'Age', 'Ejection.Fraction', 'Sodium', 'Creatinine', 'Pletelets', 'CPK'],\n",
       "      dtype='object')"
      ]
     },
     "execution_count": 6,
     "metadata": {},
     "output_type": "execute_result"
    }
   ],
   "source": [
    "df.columns"
   ]
  },
  {
   "cell_type": "code",
   "execution_count": 8,
   "metadata": {},
   "outputs": [
    {
     "data": {
      "text/html": [
       "<div>\n",
       "<style scoped>\n",
       "    .dataframe tbody tr th:only-of-type {\n",
       "        vertical-align: middle;\n",
       "    }\n",
       "\n",
       "    .dataframe tbody tr th {\n",
       "        vertical-align: top;\n",
       "    }\n",
       "\n",
       "    .dataframe thead th {\n",
       "        text-align: right;\n",
       "    }\n",
       "</style>\n",
       "<table border=\"1\" class=\"dataframe\">\n",
       "  <thead>\n",
       "    <tr style=\"text-align: right;\">\n",
       "      <th></th>\n",
       "      <th>count</th>\n",
       "      <th>mean</th>\n",
       "      <th>std</th>\n",
       "      <th>min</th>\n",
       "      <th>25%</th>\n",
       "      <th>50%</th>\n",
       "      <th>75%</th>\n",
       "      <th>max</th>\n",
       "    </tr>\n",
       "  </thead>\n",
       "  <tbody>\n",
       "    <tr>\n",
       "      <th>TIME</th>\n",
       "      <td>299.0</td>\n",
       "      <td>130.260870</td>\n",
       "      <td>77.614208</td>\n",
       "      <td>4.0</td>\n",
       "      <td>73.0</td>\n",
       "      <td>115.0</td>\n",
       "      <td>203.0</td>\n",
       "      <td>285.0</td>\n",
       "    </tr>\n",
       "    <tr>\n",
       "      <th>Event</th>\n",
       "      <td>299.0</td>\n",
       "      <td>0.321070</td>\n",
       "      <td>0.467670</td>\n",
       "      <td>0.0</td>\n",
       "      <td>0.0</td>\n",
       "      <td>0.0</td>\n",
       "      <td>1.0</td>\n",
       "      <td>1.0</td>\n",
       "    </tr>\n",
       "    <tr>\n",
       "      <th>Gender</th>\n",
       "      <td>299.0</td>\n",
       "      <td>0.648829</td>\n",
       "      <td>0.478136</td>\n",
       "      <td>0.0</td>\n",
       "      <td>0.0</td>\n",
       "      <td>1.0</td>\n",
       "      <td>1.0</td>\n",
       "      <td>1.0</td>\n",
       "    </tr>\n",
       "    <tr>\n",
       "      <th>Smoking</th>\n",
       "      <td>299.0</td>\n",
       "      <td>0.321070</td>\n",
       "      <td>0.467670</td>\n",
       "      <td>0.0</td>\n",
       "      <td>0.0</td>\n",
       "      <td>0.0</td>\n",
       "      <td>1.0</td>\n",
       "      <td>1.0</td>\n",
       "    </tr>\n",
       "    <tr>\n",
       "      <th>Diabetes</th>\n",
       "      <td>299.0</td>\n",
       "      <td>0.418060</td>\n",
       "      <td>0.494067</td>\n",
       "      <td>0.0</td>\n",
       "      <td>0.0</td>\n",
       "      <td>0.0</td>\n",
       "      <td>1.0</td>\n",
       "      <td>1.0</td>\n",
       "    </tr>\n",
       "    <tr>\n",
       "      <th>BP</th>\n",
       "      <td>299.0</td>\n",
       "      <td>0.351171</td>\n",
       "      <td>0.478136</td>\n",
       "      <td>0.0</td>\n",
       "      <td>0.0</td>\n",
       "      <td>0.0</td>\n",
       "      <td>1.0</td>\n",
       "      <td>1.0</td>\n",
       "    </tr>\n",
       "    <tr>\n",
       "      <th>Anaemia</th>\n",
       "      <td>299.0</td>\n",
       "      <td>0.431438</td>\n",
       "      <td>0.496107</td>\n",
       "      <td>0.0</td>\n",
       "      <td>0.0</td>\n",
       "      <td>0.0</td>\n",
       "      <td>1.0</td>\n",
       "      <td>1.0</td>\n",
       "    </tr>\n",
       "    <tr>\n",
       "      <th>Age</th>\n",
       "      <td>299.0</td>\n",
       "      <td>60.833893</td>\n",
       "      <td>11.894809</td>\n",
       "      <td>40.0</td>\n",
       "      <td>51.0</td>\n",
       "      <td>60.0</td>\n",
       "      <td>70.0</td>\n",
       "      <td>95.0</td>\n",
       "    </tr>\n",
       "    <tr>\n",
       "      <th>Ejection.Fraction</th>\n",
       "      <td>299.0</td>\n",
       "      <td>38.083612</td>\n",
       "      <td>11.834841</td>\n",
       "      <td>14.0</td>\n",
       "      <td>30.0</td>\n",
       "      <td>38.0</td>\n",
       "      <td>45.0</td>\n",
       "      <td>80.0</td>\n",
       "    </tr>\n",
       "    <tr>\n",
       "      <th>Sodium</th>\n",
       "      <td>299.0</td>\n",
       "      <td>136.625418</td>\n",
       "      <td>4.412477</td>\n",
       "      <td>113.0</td>\n",
       "      <td>134.0</td>\n",
       "      <td>137.0</td>\n",
       "      <td>140.0</td>\n",
       "      <td>148.0</td>\n",
       "    </tr>\n",
       "    <tr>\n",
       "      <th>Creatinine</th>\n",
       "      <td>299.0</td>\n",
       "      <td>1.393880</td>\n",
       "      <td>1.034510</td>\n",
       "      <td>0.5</td>\n",
       "      <td>0.9</td>\n",
       "      <td>1.1</td>\n",
       "      <td>1.4</td>\n",
       "      <td>9.4</td>\n",
       "    </tr>\n",
       "    <tr>\n",
       "      <th>Pletelets</th>\n",
       "      <td>299.0</td>\n",
       "      <td>263358.029264</td>\n",
       "      <td>97804.236869</td>\n",
       "      <td>25100.0</td>\n",
       "      <td>212500.0</td>\n",
       "      <td>262000.0</td>\n",
       "      <td>303500.0</td>\n",
       "      <td>850000.0</td>\n",
       "    </tr>\n",
       "    <tr>\n",
       "      <th>CPK</th>\n",
       "      <td>299.0</td>\n",
       "      <td>581.839465</td>\n",
       "      <td>970.287881</td>\n",
       "      <td>23.0</td>\n",
       "      <td>116.5</td>\n",
       "      <td>250.0</td>\n",
       "      <td>582.0</td>\n",
       "      <td>7861.0</td>\n",
       "    </tr>\n",
       "  </tbody>\n",
       "</table>\n",
       "</div>"
      ],
      "text/plain": [
       "                   count           mean           std      min       25%  \\\n",
       "TIME               299.0     130.260870     77.614208      4.0      73.0   \n",
       "Event              299.0       0.321070      0.467670      0.0       0.0   \n",
       "Gender             299.0       0.648829      0.478136      0.0       0.0   \n",
       "Smoking            299.0       0.321070      0.467670      0.0       0.0   \n",
       "Diabetes           299.0       0.418060      0.494067      0.0       0.0   \n",
       "BP                 299.0       0.351171      0.478136      0.0       0.0   \n",
       "Anaemia            299.0       0.431438      0.496107      0.0       0.0   \n",
       "Age                299.0      60.833893     11.894809     40.0      51.0   \n",
       "Ejection.Fraction  299.0      38.083612     11.834841     14.0      30.0   \n",
       "Sodium             299.0     136.625418      4.412477    113.0     134.0   \n",
       "Creatinine         299.0       1.393880      1.034510      0.5       0.9   \n",
       "Pletelets          299.0  263358.029264  97804.236869  25100.0  212500.0   \n",
       "CPK                299.0     581.839465    970.287881     23.0     116.5   \n",
       "\n",
       "                        50%       75%       max  \n",
       "TIME                  115.0     203.0     285.0  \n",
       "Event                   0.0       1.0       1.0  \n",
       "Gender                  1.0       1.0       1.0  \n",
       "Smoking                 0.0       1.0       1.0  \n",
       "Diabetes                0.0       1.0       1.0  \n",
       "BP                      0.0       1.0       1.0  \n",
       "Anaemia                 0.0       1.0       1.0  \n",
       "Age                    60.0      70.0      95.0  \n",
       "Ejection.Fraction      38.0      45.0      80.0  \n",
       "Sodium                137.0     140.0     148.0  \n",
       "Creatinine              1.1       1.4       9.4  \n",
       "Pletelets          262000.0  303500.0  850000.0  \n",
       "CPK                   250.0     582.0    7861.0  "
      ]
     },
     "execution_count": 8,
     "metadata": {},
     "output_type": "execute_result"
    }
   ],
   "source": [
    "df.describe().transpose()"
   ]
  },
  {
   "cell_type": "code",
   "execution_count": 9,
   "metadata": {},
   "outputs": [],
   "source": [
    "df['Gender'] = df['Gender'].astype('category')\n",
    "df['Gender'].replace(0, 'F',inplace=True)\n",
    "df['Gender'].replace(1, 'M',inplace=True)"
   ]
  },
  {
   "cell_type": "code",
   "execution_count": 11,
   "metadata": {},
   "outputs": [
    {
     "data": {
      "text/plain": [
       "0    203\n",
       "1     96\n",
       "Name: Event, dtype: int64"
      ]
     },
     "execution_count": 11,
     "metadata": {},
     "output_type": "execute_result"
    }
   ],
   "source": [
    "df['Event'].value_counts()"
   ]
  },
  {
   "cell_type": "code",
   "execution_count": 14,
   "metadata": {},
   "outputs": [
    {
     "name": "stdout",
     "output_type": "stream",
     "text": [
      "    TIME  Event Gender  Smoking  Diabetes  BP  Anaemia   Age  \\\n",
      "2     31      1      M        1         0   1        0  70.0   \n",
      "5     10      1      M        0         0   0        1  75.0   \n",
      "7     27      1      M        0         1   1        0  94.0   \n",
      "12    13      1      M        0         0   0        1  82.0   \n",
      "13     4      1      M        0         0   1        0  75.0   \n",
      "\n",
      "    Ejection.Fraction  Sodium  Creatinine  Pletelets  CPK  \n",
      "2                  20     134        1.83  263358.03  582  \n",
      "5                  15     137        1.20  127000.00  246  \n",
      "7                  38     134        1.83  263358.03  582  \n",
      "12                 50     136        1.30   47000.00  379  \n",
      "13                 20     130        1.90  265000.00  582  \n",
      "   TIME  Event Gender  Smoking  Diabetes  BP  Anaemia   Age  \\\n",
      "0    97      0      F        0         0   0        1  43.0   \n",
      "1   180      0      M        1         1   0        1  73.0   \n",
      "3    87      0      M        0         0   0        1  65.0   \n",
      "4   113      0      M        0         0   0        0  64.0   \n",
      "6   250      0      M        1         0   0        0  70.0   \n",
      "\n",
      "   Ejection.Fraction  Sodium  Creatinine  Pletelets   CPK  \n",
      "0                 50     135        1.30   237000.0   358  \n",
      "1                 30     142        1.18   160000.0   231  \n",
      "3                 25     141        1.10   298000.0   305  \n",
      "4                 60     137        1.00   242000.0  1610  \n",
      "6                 40     136        2.70    51000.0   582  \n"
     ]
    }
   ],
   "source": [
    "noSurvive = df[df['Event'] == 1]\n",
    "Survive = df[df['Event'] == 0]\n",
    "print(noSurvive.head())\n",
    "print(Survive.head())"
   ]
  },
  {
   "cell_type": "code",
   "execution_count": 22,
   "metadata": {},
   "outputs": [
    {
     "data": {
      "text/plain": [
       "<function matplotlib.pyplot.show(*args, **kw)>"
      ]
     },
     "execution_count": 22,
     "metadata": {},
     "output_type": "execute_result"
    },
    {
     "data": {
      "image/png": "[encoded data removed]",
      "text/plain": [
       "<Figure size 864x252 with 3 Axes>"
      ]
     },
     "metadata": {
      "needs_background": "light"
     },
     "output_type": "display_data"
    }
   ],
   "source": [
    "fig, (ax0, ax1, ax2) = plt.subplots(nrows=1, ncols=3, figsize=(12, 3.5), tight_layout=True)\n",
    "ax0.hist(x=df['Age'], bins=20, histtype='bar', edgecolor='black', color='royalblue')\n",
    "ax0.set_title('Patient Age', fontsize=16, fontweight = 'bold')\n",
    "ax0.set_xlabel('Age (years)', fontsize = 12)\n",
    "\n",
    "ax1.hist(x=df['TIME'], bins=10, histtype='bar', edgecolor='black', color='royalblue')\n",
    "ax1.set_title('followup checkup', fontsize=16, fontweight = 'bold')\n",
    "ax1.set_xlabel('days', fontsize = 12)\n",
    "\n",
    "ax2.hist(x=df['Ejection.Fraction'], bins=20, histtype='bar', edgecolor='black', color='royalblue')\n",
    "ax2.set_title('patient count', fontsize=16, fontweight = 'bold')\n",
    "ax2.set_xlabel('blood leaving per contraction(%)', fontsize = 12)\n",
    "\n",
    "plt.show"
   ]
  },
  {
   "cell_type": "code",
   "execution_count": 26,
   "metadata": {},
   "outputs": [
    {
     "data": {
      "text/plain": [
       "Text(0.5, 0, 'CPK level(mcg/L)')"
      ]
     },
     "execution_count": 26,
     "metadata": {},
     "output_type": "execute_result"
    },
    {
     "data": {
      "image/png": "[encoded data removed]",
      "text/plain": [
       "<Figure size 1728x504 with 4 Axes>"
      ]
     },
     "metadata": {
      "needs_background": "light"
     },
     "output_type": "display_data"
    }
   ],
   "source": [
    "fig, (ax0, ax1, ax2, ax3) = plt.subplots(nrows=1, ncols=4, figsize=(12, 3.5), tight_layout=True)\n",
    "ax0.hist(x=df['Sodium'], bins=20, histtype='bar', edgecolor='black', color='royalblue')\n",
    "ax0.set_title('Serum Sodium', fontsize=16, fontweight = 'bold')\n",
    "ax0.set_xlabel('Sodium level(mEq/L)', fontsize = 12)\n",
    "\n",
    "ax1.hist(x=df['Creatinine'], bins=10, histtype='bar', edgecolor='black', color='royalblue')\n",
    "ax1.set_title('serum creatinine', fontsize=16, fontweight = 'bold')\n",
    "ax1.set_xlabel('creatinine level(mg/dL)', fontsize = 12)\n",
    "\n",
    "ax2.hist(x=df['Pletelets'], bins=20, histtype='bar', edgecolor='black', color='royalblue')\n",
    "ax2.set_title('pletelets count', fontsize=16, fontweight = 'bold')\n",
    "ax2.set_xlabel('blood Platelets (kiloplateletts/ml)', fontsize = 12)\n",
    "\n",
    "ax3.hist(x=df['CPK'], bins=20, histtype='bar', edgecolor='black', color='royalblue')\n",
    "ax2.set_title('Creatinine phosphokinase', fontsize=16, fontweight = 'bold')\n",
    "ax2.set_xlabel('CPK level(mcg/L)', fontsize = 12)"
   ]
  },
  {
   "cell_type": "code",
   "execution_count": null,
   "metadata": {},
   "outputs": [],
   "source": []
  }
 ],
 "metadata": {
  "kernelspec": {
   "display_name": "Python 3",
   "language": "python",
   "name": "python3"
  },
  "language_info": {
   "codemirror_mode": {
    "name": "ipython",
    "version": 3
   },
   "file_extension": ".py",
   "mimetype": "text/x-python",
   "name": "python",
   "nbconvert_exporter": "python",
   "pygments_lexer": "ipython3",
   "version": "3.7.6"
  }
 },
 "nbformat": 4,
 "nbformat_minor": 4
}
